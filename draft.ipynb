{
 "metadata": {
  "language_info": {
   "codemirror_mode": {
    "name": "ipython",
    "version": 3
   },
   "file_extension": ".py",
   "mimetype": "text/x-python",
   "name": "python",
   "nbconvert_exporter": "python",
   "pygments_lexer": "ipython3",
   "version": 3
  },
  "orig_nbformat": 2,
  "kernelspec": {
   "name": "python_defaultSpec_1597069475261",
   "display_name": "Python 3.6.9 64-bit"
  }
 },
 "nbformat": 4,
 "nbformat_minor": 2,
 "cells": [
  {
   "cell_type": "code",
   "execution_count": 3,
   "metadata": {},
   "outputs": [],
   "source": [
    "import argparse\n",
    "import os\n",
    "import logging\n",
    "import torch\n",
    "import numpy as np\n",
    "\n",
    "from tqdm import tqdm\n",
    "from easydict import EasyDict\n",
    "\n",
    "from models import build_model\n",
    "from data import DataManger_Epoch, DataManger_Episode\n",
    "from logger import setup_logging\n",
    "from utils import read_config, rmdir, summary, array_interweave, COLOR\n",
    "from evaluators import recognition_metrics"
   ]
  },
  {
   "cell_type": "code",
   "execution_count": 4,
   "metadata": {
    "tags": []
   },
   "outputs": [
    {
     "output_type": "stream",
     "name": "stdout",
     "text": "Downloading...\nDownloaded!\nDownloading...\nDownloaded!\n"
    }
   ],
   "source": [
    "config1 = \"config/baseline_peta.yml\"\n",
    "config2 = \"config/episode_peta.yml\"\n",
    "\n",
    "resume1 = \"/content/drive/Shared drives/REID/HIEN/Models/OSNet_Person_Attribute_Refactor/checkpoints/0731_232453/model_best_accuracy.pth\"\n",
    "resume2 = \"/content/drive/Shared drives/REID/HIEN/Models/person_attribute_recognition/checkpoints/0809_231322/model_best_accuracy.pth\"\n",
    "\n",
    "config1 = read_config(config1)\n",
    "config1.update({'resume': resume1})\n",
    "config1.update({'colab': True})\n",
    "\n",
    "config2 = read_config(config2)\n",
    "config2.update({'resume': resume2})\n",
    "config2.update({'colab': True})\n",
    "\n",
    "datamanager1 = DataManger_Epoch(config1['data'])\n",
    "datamanager2 = DataManger_Episode(config2['data'])\n",
    "\n",
    "weight = datamanager1.datasource.get_weight('train')"
   ]
  },
  {
   "cell_type": "code",
   "execution_count": 9,
   "metadata": {},
   "outputs": [],
   "source": [
    "from torch.distributions.multinomial import Multinomial\n",
    "m = Multinomial(32, torch.exp(1-torch.tensor(weight)))"
   ]
  },
  {
   "cell_type": "code",
   "execution_count": 10,
   "metadata": {},
   "outputs": [],
   "source": [
    "attribute_name = datamanager1.datasource.get_attribute()"
   ]
  },
  {
   "cell_type": "code",
   "execution_count": 11,
   "metadata": {
    "tags": []
   },
   "outputs": [
    {
     "output_type": "stream",
     "name": "stdout",
     "text": "['carryingNothing', 'lowerBodyFormal', 'personalLess60', 'upperBodyVNeck', 'lowerBodyTrousers', 'accessoryMuffler', 'upperBodyCasual', 'upperBodyFormal']\n"
    }
   ],
   "source": [
    "import random\n",
    "selected_attribute = random.sample(attribute_name, 8)\n",
    "print(selected_attribute)"
   ]
  },
  {
   "cell_type": "code",
   "execution_count": 13,
   "metadata": {},
   "outputs": [
    {
     "output_type": "execute_result",
     "data": {
      "text/plain": "tensor([25, 14,  9, 14, 23, 28, 27, 29])"
     },
     "metadata": {},
     "execution_count": 13
    }
   ],
   "source": [
    "import torch\n",
    "torch.multinomial(torch.exp(1-torch.tensor(weight)), 8, replacement=True)"
   ]
  },
  {
   "cell_type": "code",
   "execution_count": null,
   "metadata": {
    "tags": []
   },
   "outputs": [],
   "source": [
    "import collections\n",
    "from collections import defaultdict\n",
    "result = defaultdict(int)\n",
    "for _ in range(100000):\n",
    "    temp = torch.multinomial(torch.exp(1-torch.tensor(weight)), 8, replacement=True)\n",
    "    for key, value in collections.Counter(temp.numpy()).items():\n",
    "        result[key] += value\n",
    "print(list(collections.OrderedDict(sorted(result.items())).values()))"
   ]
  },
  {
   "cell_type": "code",
   "execution_count": 6,
   "metadata": {},
   "outputs": [
    {
     "output_type": "error",
     "ename": "ValueError",
     "evalue": "pvals < 0, pvals > 1 or pvals contains NaNs",
     "traceback": [
      "\u001b[1;31m---------------------------------------------------------------------------\u001b[0m",
      "\u001b[1;31mValueError\u001b[0m                                Traceback (most recent call last)",
      "\u001b[1;32m<ipython-input-6-a30bbaad76a5>\u001b[0m in \u001b[0;36m<module>\u001b[1;34m\u001b[0m\n\u001b[0;32m      1\u001b[0m \u001b[1;32mimport\u001b[0m \u001b[0mnumpy\u001b[0m \u001b[1;32mas\u001b[0m \u001b[0mnp\u001b[0m\u001b[1;33m\u001b[0m\u001b[1;33m\u001b[0m\u001b[0m\n\u001b[1;32m----> 2\u001b[1;33m \u001b[0mtemp\u001b[0m \u001b[1;33m=\u001b[0m \u001b[0mnp\u001b[0m\u001b[1;33m.\u001b[0m\u001b[0mrandom\u001b[0m\u001b[1;33m.\u001b[0m\u001b[0mmultinomial\u001b[0m\u001b[1;33m(\u001b[0m\u001b[1;36m8\u001b[0m\u001b[1;33m,\u001b[0m \u001b[0mnp\u001b[0m\u001b[1;33m.\u001b[0m\u001b[0mexp\u001b[0m\u001b[1;33m(\u001b[0m\u001b[1;36m1\u001b[0m\u001b[1;33m-\u001b[0m\u001b[0mnp\u001b[0m\u001b[1;33m.\u001b[0m\u001b[0marray\u001b[0m\u001b[1;33m(\u001b[0m\u001b[0mweight\u001b[0m\u001b[1;33m)\u001b[0m\u001b[1;33m)\u001b[0m\u001b[1;33m)\u001b[0m\u001b[1;33m\u001b[0m\u001b[1;33m\u001b[0m\u001b[0m\n\u001b[0m\u001b[0;32m      3\u001b[0m \u001b[0mtemp\u001b[0m\u001b[1;33m\u001b[0m\u001b[1;33m\u001b[0m\u001b[0m\n",
      "\u001b[1;32mmtrand.pyx\u001b[0m in \u001b[0;36mnumpy.random.mtrand.RandomState.multinomial\u001b[1;34m()\u001b[0m\n",
      "\u001b[1;32m_common.pyx\u001b[0m in \u001b[0;36mnumpy.random._common.check_array_constraint\u001b[1;34m()\u001b[0m\n",
      "\u001b[1;31mValueError\u001b[0m: pvals < 0, pvals > 1 or pvals contains NaNs"
     ]
    }
   ],
   "source": [
    "import numpy as np\n",
    "temp = np.random.multinomial(8, np.exp(1-np.array(weight)))\n",
    "temp"
   ]
  },
  {
   "cell_type": "code",
   "execution_count": null,
   "metadata": {},
   "outputs": [],
   "source": []
  }
 ]
}