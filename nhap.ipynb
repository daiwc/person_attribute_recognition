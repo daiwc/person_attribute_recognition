{
 "cells": [
  {
   "cell_type": "code",
   "execution_count": 3,
   "metadata": {},
   "outputs": [
    {
     "output_type": "execute_result",
     "data": {
      "text/plain": "matrix([[0., 1., 0., 0.],\n        [0., 0., 1., 1.],\n        [0., 1., 0., 0.],\n        [1., 0., 1., 0.]])"
     },
     "metadata": {},
     "execution_count": 3
    }
   ],
   "source": [
    "import numpy as np\n",
    "A = np.matrix([\n",
    "    [0, 1, 0, 0],\n",
    "    [0, 0, 1, 1], \n",
    "    [0, 1, 0, 0],\n",
    "    [1, 0, 1, 0]],\n",
    "    dtype=float\n",
    ")\n",
    "A"
   ]
  },
  {
   "cell_type": "code",
   "execution_count": 5,
   "metadata": {},
   "outputs": [
    {
     "output_type": "execute_result",
     "data": {
      "text/plain": "matrix([[ 0.,  0.],\n        [ 1., -1.],\n        [ 2., -2.],\n        [ 3., -3.]])"
     },
     "metadata": {},
     "execution_count": 5
    }
   ],
   "source": [
    "X = np.matrix([\n",
    "    [i, -i]\n",
    "    for i in range(A.shape[0])\n",
    "], dtype=float)\n",
    "X"
   ]
  },
  {
   "cell_type": "code",
   "execution_count": 6,
   "metadata": {},
   "outputs": [
    {
     "output_type": "execute_result",
     "data": {
      "text/plain": "matrix([[ 1., -1.],\n        [ 5., -5.],\n        [ 1., -1.],\n        [ 2., -2.]])"
     },
     "metadata": {},
     "execution_count": 6
    }
   ],
   "source": [
    "A*X"
   ]
  },
  {
   "cell_type": "code",
   "execution_count": 7,
   "metadata": {},
   "outputs": [
    {
     "output_type": "execute_result",
     "data": {
      "text/plain": "matrix([[ 1., -1.],\n        [ 6., -6.],\n        [ 3., -3.],\n        [ 5., -5.]])"
     },
     "metadata": {},
     "execution_count": 7
    }
   ],
   "source": [
    "I = np.matrix(np.eye(A.shape[0]))\n",
    "(A+I)*X"
   ]
  },
  {
   "cell_type": "code",
   "execution_count": null,
   "metadata": {},
   "outputs": [],
   "source": []
  }
 ],
 "metadata": {
  "language_info": {
   "codemirror_mode": {
    "name": "ipython",
    "version": 3
   },
   "file_extension": ".py",
   "mimetype": "text/x-python",
   "name": "python",
   "nbconvert_exporter": "python",
   "pygments_lexer": "ipython3",
   "version": "3.6.9-final"
  },
  "orig_nbformat": 2,
  "kernelspec": {
   "name": "python3",
   "display_name": "Python 3"
  }
 },
 "nbformat": 4,
 "nbformat_minor": 2
}