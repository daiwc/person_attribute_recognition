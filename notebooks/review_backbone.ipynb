{
 "metadata": {
  "language_info": {
   "codemirror_mode": {
    "name": "ipython",
    "version": 3
   },
   "file_extension": ".py",
   "mimetype": "text/x-python",
   "name": "python",
   "nbconvert_exporter": "python",
   "pygments_lexer": "ipython3",
   "version": "3.6.9-final"
  },
  "orig_nbformat": 2,
  "kernelspec": {
   "name": "python_defaultSpec_1599482082257",
   "display_name": "Python 3.6.9 64-bit ('reid': conda)"
  }
 },
 "nbformat": 4,
 "nbformat_minor": 2,
 "cells": [
  {
   "cell_type": "code",
   "execution_count": 1,
   "metadata": {
    "tags": []
   },
   "outputs": [
    {
     "output_type": "stream",
     "name": "stdout",
     "text": "d:\\Models\\person_attribute_recognition\n"
    }
   ],
   "source": [
    "%cd .."
   ]
  },
  {
   "cell_type": "code",
   "execution_count": 2,
   "metadata": {},
   "outputs": [],
   "source": [
    "from models.backbone import build_backbone\n",
    "\n",
    "import torch\n",
    "from utils import summary"
   ]
  },
  {
   "cell_type": "code",
   "execution_count": 6,
   "metadata": {
    "tags": []
   },
   "outputs": [
    {
     "output_type": "stream",
     "name": "stdout",
     "text": "==========================================================================================\nTotal params: 23,508,032\nTrainable params: 23,508,032\nNon-trainable params: 0\nTotal mult-adds (G): 2.72\n==========================================================================================\nInput size (MB): 24.00\nForward/backward pass size (MB): 7088.00\nParams size (MB): 89.68\nEstimated Total Size (MB): 7201.68\n==========================================================================================\n"
    }
   ],
   "source": [
    "model, _ = build_backbone(name='resnet50', pretrained=False, progress=True)\n",
    "result = summary(model, torch.zeros(64, 3, 256, 128), batch_dim=None, print_step=False)"
   ]
  },
  {
   "cell_type": "code",
   "execution_count": 5,
   "metadata": {
    "tags": []
   },
   "outputs": [
    {
     "output_type": "stream",
     "name": "stdout",
     "text": "===============================================================================================\nTotal params: 1,905,828\nTrainable params: 1,905,828\nNon-trainable params: 0\nTotal mult-adds (M): 678.62\n===============================================================================================\nInput size (MB): 24.00\nForward/backward pass size (MB): 4544.30\nParams size (MB): 7.27\nEstimated Total Size (MB): 4575.57\n===============================================================================================\n"
    }
   ],
   "source": [
    "model, _ = build_backbone(name='osnet', pretrained=False, progress=True)\n",
    "result = summary(model, torch.zeros(64, 3, 256, 128), batch_dim=None, print_step=False)"
   ]
  },
  {
   "cell_type": "code",
   "execution_count": null,
   "metadata": {},
   "outputs": [],
   "source": []
  }
 ]
}