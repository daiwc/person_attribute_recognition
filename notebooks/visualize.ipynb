{
 "metadata": {
  "language_info": {
   "codemirror_mode": {
    "name": "ipython",
    "version": 3
   },
   "file_extension": ".py",
   "mimetype": "text/x-python",
   "name": "python",
   "nbconvert_exporter": "python",
   "pygments_lexer": "ipython3",
   "version": "3.6.9-final"
  },
  "orig_nbformat": 2,
  "kernelspec": {
   "name": "python_defaultSpec_1599482079579",
   "display_name": "Python 3.6.9 64-bit ('reid': conda)"
  }
 },
 "nbformat": 4,
 "nbformat_minor": 2,
 "cells": [
  {
   "cell_type": "code",
   "execution_count": 1,
   "metadata": {
    "tags": []
   },
   "outputs": [
    {
     "output_type": "stream",
     "name": "stdout",
     "text": "d:\\Models\\person_attribute_recognition\n"
    }
   ],
   "source": [
    "%cd .."
   ]
  },
  {
   "cell_type": "code",
   "execution_count": 2,
   "metadata": {},
   "outputs": [],
   "source": [
    "import pandas as pd\n",
    "import numpy as np\n",
    "import matplotlib.pyplot as plt\n",
    "\n",
    "from utils.aggregator import aggregate, aggregate1\n",
    "import matplotlib\n",
    "\n",
    "font = {\n",
    "    # 'family' : 'normal',\n",
    "    # 'weight' : 'bold',\n",
    "    'size'   : 22\n",
    "}\n",
    "\n",
    "matplotlib.rc('font', **font)\n"
   ]
  },
  {
   "cell_type": "code",
   "execution_count": 3,
   "metadata": {},
   "outputs": [],
   "source": [
    "def plot_loss_accuracy(dpath, list_dname, list_metrics, title = None, com=0):\n",
    "    r\"\"\" Plot metrics from tensorboard log folder\n",
    "    Args:\n",
    "        dpath (str): path to folder contain (eg: saved/logs)\n",
    "        list_dname (list(str)): list of run_id to plot.\n",
    "        output_path (str): path to save csv file after concat logs from different run time\n",
    "        title (str): title for figure\n",
    "        com (float [0, 1]): ratio for smooth line\n",
    "    \"\"\" \n",
    "    # check folder exists\n",
    "    assert os.path.exists(dpath), \"folder %s not exists\" % dpath\n",
    "    for dname in list_dname:\n",
    "        assert os.path.exists(os.path.join(dpath, dname)), \"folder %s not exists\" % str(os.path.join(dpath, dname))\n",
    "\n",
    "    dict_data_frame, list_part = aggregate(dpath, list_dname)\n",
    "\n",
    "    fig, ax = plt.subplots(nrows=1, ncols=len(list_metrics), figsize=(25, 10))\n",
    "    \n",
    "    for i in range(len(list_metrics)):\n",
    "        colors = ['red', 'green', 'blue', 'orange']\n",
    "        \n",
    "        # get outlier from phase train and valid\n",
    "        low, high = None, None\n",
    "        for j in range(len(list_part[1])):\n",
    "            df = dict_data_frame[list_metrics[i]][list_part[1][j]]\n",
    "            z_score = (df['Value'] - df['Value'].mean()) / (df['Value'].std(ddof=0))\n",
    "            df_min = df['Value'][np.abs(z_score) >= 3]\n",
    "            \n",
    "            if low != None:\n",
    "                low = min(df_min[df_min < df['Value'].mean()].min(), low)\n",
    "            else:\n",
    "                low = df_min[df_min < df['Value'].mean()].min()\n",
    "            if np.isnan(low):\n",
    "                low = None\n",
    "\n",
    "            if high != None:\n",
    "                high = max(df_min[df_min > df['Value'].mean()].max(), high)\n",
    "            else:\n",
    "                high = df_min[df_min > df['Value'].mean()].max()\n",
    "            \n",
    "            if np.isnan(high):\n",
    "                high = None\n",
    "        \n",
    "        # plot\n",
    "        for j in range(len(list_part[1])):\n",
    "            df = dict_data_frame[list_metrics[i]][list_part[1][j]]\n",
    "            # smoothing\n",
    "            df['Value'] = df['Value'].ewm(com=com).mean()\n",
    "            # plot\n",
    "            df.plot.line(\n",
    "                x='Step',\n",
    "                y ='Value',\n",
    "                label=list_part[1][j],\n",
    "                color=colors[j],\n",
    "                ax=ax[i])\n",
    "        # set limit for y-axis\n",
    "        ax[i].set_ylim(low, high)\n",
    "        # set label\n",
    "        ax[i].set_title(list_metrics[i])\n",
    "        ax[i].set_xlabel('Epoch')\n",
    "        # Hide the right and top spines\n",
    "        ax[i].spines['right'].set_visible(False)\n",
    "        ax[i].spines['top'].set_visible(False)\n",
    "        # Only show ticks on the left and bottom spines\n",
    "        ax[i].yaxis.set_ticks_position('left')\n",
    "        ax[i].xaxis.set_ticks_position('bottom')\n",
    "        # show grid\n",
    "        ax[i].grid()\n",
    "\n",
    "    if title != None:\n",
    "        fig.suptitle(title)\n",
    "    plt.savefig('{}.pdf'.format(list_dname[0]), dpi=1200)\n",
    "    plt.show()\n",
    "\n",
    "    # dict_data_frame = aggregate1(dpath, list_dname)\n",
    "    # for key, value in dict_data_frame.items():\n",
    "    #     fig, ax = plt.subplots()\n",
    "    #     df = dict_data_frame[key]\n",
    "    #     # df['Value'] = np.log2(df['Value'])\n",
    "    #     df.plot.line(x='Step', y ='Value', label=key, ax=ax)\n",
    "    #     # set label\n",
    "    #     ax.set_title(key)\n",
    "    #     ax.set_xlabel('Epoch')\n",
    "    #     # Hide the right and top spines\n",
    "    #     ax.spines['right'].set_visible(False)\n",
    "    #     ax.spines['top'].set_visible(False)\n",
    "    #     # Only show ticks on the left and bottom spines\n",
    "    #     ax.yaxis.set_ticks_position('left')\n",
    "    #     ax.xaxis.set_ticks_position('bottom')\n",
    "    #     # show grid\n",
    "    #     ax.grid()\n",
    "    #     plt.show()\n",
    "    #     path_figure = os.path.join(path_folder, '{}.png'.format(key))\n",
    "    #     if os.path.exists(path_figure):\n",
    "    #         os.remove(path_figure)\n",
    "    #     fig.savefig(path_figure, dpi=300)"
   ]
  },
  {
   "cell_type": "code",
   "execution_count": 4,
   "metadata": {
    "tags": []
   },
   "outputs": [
    {
     "output_type": "error",
     "ename": "AssertionError",
     "evalue": "folder saved/logs not exists",
     "traceback": [
      "\u001b[1;31m---------------------------------------------------------------------------\u001b[0m",
      "\u001b[1;31mAssertionError\u001b[0m                            Traceback (most recent call last)",
      "\u001b[1;32m<ipython-input-4-c6f1656d43b5>\u001b[0m in \u001b[0;36m<module>\u001b[1;34m\u001b[0m\n\u001b[0;32m      5\u001b[0m     \u001b[0mdpath\u001b[0m\u001b[1;33m=\u001b[0m\u001b[0mlog_dir\u001b[0m\u001b[1;33m,\u001b[0m\u001b[1;33m\u001b[0m\u001b[1;33m\u001b[0m\u001b[0m\n\u001b[0;32m      6\u001b[0m     \u001b[0mlist_dname\u001b[0m\u001b[1;33m=\u001b[0m\u001b[0mrun_id\u001b[0m\u001b[1;33m,\u001b[0m\u001b[1;33m\u001b[0m\u001b[1;33m\u001b[0m\u001b[0m\n\u001b[1;32m----> 7\u001b[1;33m     \u001b[0mlist_metrics\u001b[0m\u001b[1;33m=\u001b[0m\u001b[1;33m[\u001b[0m\u001b[1;34m'Loss'\u001b[0m\u001b[1;33m,\u001b[0m \u001b[1;34m'accuracy'\u001b[0m\u001b[1;33m]\u001b[0m\u001b[1;33m,\u001b[0m\u001b[1;33m\u001b[0m\u001b[1;33m\u001b[0m\u001b[0m\n\u001b[0m\u001b[0;32m      8\u001b[0m )\n",
      "\u001b[1;32m<ipython-input-3-202200138756>\u001b[0m in \u001b[0;36mplot_loss_accuracy\u001b[1;34m(dpath, list_dname, list_metrics, title, com)\u001b[0m\n\u001b[0;32m      9\u001b[0m     \"\"\" \n\u001b[0;32m     10\u001b[0m     \u001b[1;31m# check folder exists\u001b[0m\u001b[1;33m\u001b[0m\u001b[1;33m\u001b[0m\u001b[1;33m\u001b[0m\u001b[0m\n\u001b[1;32m---> 11\u001b[1;33m     \u001b[1;32massert\u001b[0m \u001b[0mos\u001b[0m\u001b[1;33m.\u001b[0m\u001b[0mpath\u001b[0m\u001b[1;33m.\u001b[0m\u001b[0mexists\u001b[0m\u001b[1;33m(\u001b[0m\u001b[0mdpath\u001b[0m\u001b[1;33m)\u001b[0m\u001b[1;33m,\u001b[0m \u001b[1;34m\"folder %s not exists\"\u001b[0m \u001b[1;33m%\u001b[0m \u001b[0mdpath\u001b[0m\u001b[1;33m\u001b[0m\u001b[1;33m\u001b[0m\u001b[0m\n\u001b[0m\u001b[0;32m     12\u001b[0m     \u001b[1;32mfor\u001b[0m \u001b[0mdname\u001b[0m \u001b[1;32min\u001b[0m \u001b[0mlist_dname\u001b[0m\u001b[1;33m:\u001b[0m\u001b[1;33m\u001b[0m\u001b[1;33m\u001b[0m\u001b[0m\n\u001b[0;32m     13\u001b[0m         \u001b[1;32massert\u001b[0m \u001b[0mos\u001b[0m\u001b[1;33m.\u001b[0m\u001b[0mpath\u001b[0m\u001b[1;33m.\u001b[0m\u001b[0mexists\u001b[0m\u001b[1;33m(\u001b[0m\u001b[0mos\u001b[0m\u001b[1;33m.\u001b[0m\u001b[0mpath\u001b[0m\u001b[1;33m.\u001b[0m\u001b[0mjoin\u001b[0m\u001b[1;33m(\u001b[0m\u001b[0mdpath\u001b[0m\u001b[1;33m,\u001b[0m \u001b[0mdname\u001b[0m\u001b[1;33m)\u001b[0m\u001b[1;33m)\u001b[0m\u001b[1;33m,\u001b[0m \u001b[1;34m\"folder %s not exists\"\u001b[0m \u001b[1;33m%\u001b[0m \u001b[0mstr\u001b[0m\u001b[1;33m(\u001b[0m\u001b[0mos\u001b[0m\u001b[1;33m.\u001b[0m\u001b[0mpath\u001b[0m\u001b[1;33m.\u001b[0m\u001b[0mjoin\u001b[0m\u001b[1;33m(\u001b[0m\u001b[0mdpath\u001b[0m\u001b[1;33m,\u001b[0m \u001b[0mdname\u001b[0m\u001b[1;33m)\u001b[0m\u001b[1;33m)\u001b[0m\u001b[1;33m\u001b[0m\u001b[1;33m\u001b[0m\u001b[0m\n",
      "\u001b[1;31mAssertionError\u001b[0m: folder saved/logs not exists"
     ]
    }
   ],
   "source": [
    "log_dir = 'saved/logs'\n",
    "run_id = ['0731_232453']\n",
    "\n",
    "plot_loss_accuracy(\n",
    "    dpath=log_dir,\n",
    "    list_dname=run_id,\n",
    "    list_metrics=['Loss', 'accuracy'],\n",
    ")"
   ]
  },
  {
   "cell_type": "code",
   "execution_count": 5,
   "metadata": {},
   "outputs": [
    {
     "output_type": "error",
     "ename": "AssertionError",
     "evalue": "folder saved/logs not exists",
     "traceback": [
      "\u001b[1;31m---------------------------------------------------------------------------\u001b[0m",
      "\u001b[1;31mAssertionError\u001b[0m                            Traceback (most recent call last)",
      "\u001b[1;32m<ipython-input-5-9c65757fb19b>\u001b[0m in \u001b[0;36m<module>\u001b[1;34m\u001b[0m\n\u001b[0;32m      5\u001b[0m     \u001b[0mdpath\u001b[0m\u001b[1;33m=\u001b[0m\u001b[0mlog_dir\u001b[0m\u001b[1;33m,\u001b[0m\u001b[1;33m\u001b[0m\u001b[1;33m\u001b[0m\u001b[0m\n\u001b[0;32m      6\u001b[0m     \u001b[0mlist_dname\u001b[0m\u001b[1;33m=\u001b[0m\u001b[0mrun_id\u001b[0m\u001b[1;33m,\u001b[0m\u001b[1;33m\u001b[0m\u001b[1;33m\u001b[0m\u001b[0m\n\u001b[1;32m----> 7\u001b[1;33m     \u001b[0mlist_metrics\u001b[0m\u001b[1;33m=\u001b[0m\u001b[1;33m[\u001b[0m\u001b[1;34m'Loss'\u001b[0m\u001b[1;33m,\u001b[0m \u001b[1;34m'accuracy'\u001b[0m\u001b[1;33m]\u001b[0m\u001b[1;33m,\u001b[0m\u001b[1;33m\u001b[0m\u001b[1;33m\u001b[0m\u001b[0m\n\u001b[0m\u001b[0;32m      8\u001b[0m )\n",
      "\u001b[1;32m<ipython-input-3-202200138756>\u001b[0m in \u001b[0;36mplot_loss_accuracy\u001b[1;34m(dpath, list_dname, list_metrics, title, com)\u001b[0m\n\u001b[0;32m      9\u001b[0m     \"\"\" \n\u001b[0;32m     10\u001b[0m     \u001b[1;31m# check folder exists\u001b[0m\u001b[1;33m\u001b[0m\u001b[1;33m\u001b[0m\u001b[1;33m\u001b[0m\u001b[0m\n\u001b[1;32m---> 11\u001b[1;33m     \u001b[1;32massert\u001b[0m \u001b[0mos\u001b[0m\u001b[1;33m.\u001b[0m\u001b[0mpath\u001b[0m\u001b[1;33m.\u001b[0m\u001b[0mexists\u001b[0m\u001b[1;33m(\u001b[0m\u001b[0mdpath\u001b[0m\u001b[1;33m)\u001b[0m\u001b[1;33m,\u001b[0m \u001b[1;34m\"folder %s not exists\"\u001b[0m \u001b[1;33m%\u001b[0m \u001b[0mdpath\u001b[0m\u001b[1;33m\u001b[0m\u001b[1;33m\u001b[0m\u001b[0m\n\u001b[0m\u001b[0;32m     12\u001b[0m     \u001b[1;32mfor\u001b[0m \u001b[0mdname\u001b[0m \u001b[1;32min\u001b[0m \u001b[0mlist_dname\u001b[0m\u001b[1;33m:\u001b[0m\u001b[1;33m\u001b[0m\u001b[1;33m\u001b[0m\u001b[0m\n\u001b[0;32m     13\u001b[0m         \u001b[1;32massert\u001b[0m \u001b[0mos\u001b[0m\u001b[1;33m.\u001b[0m\u001b[0mpath\u001b[0m\u001b[1;33m.\u001b[0m\u001b[0mexists\u001b[0m\u001b[1;33m(\u001b[0m\u001b[0mos\u001b[0m\u001b[1;33m.\u001b[0m\u001b[0mpath\u001b[0m\u001b[1;33m.\u001b[0m\u001b[0mjoin\u001b[0m\u001b[1;33m(\u001b[0m\u001b[0mdpath\u001b[0m\u001b[1;33m,\u001b[0m \u001b[0mdname\u001b[0m\u001b[1;33m)\u001b[0m\u001b[1;33m)\u001b[0m\u001b[1;33m,\u001b[0m \u001b[1;34m\"folder %s not exists\"\u001b[0m \u001b[1;33m%\u001b[0m \u001b[0mstr\u001b[0m\u001b[1;33m(\u001b[0m\u001b[0mos\u001b[0m\u001b[1;33m.\u001b[0m\u001b[0mpath\u001b[0m\u001b[1;33m.\u001b[0m\u001b[0mjoin\u001b[0m\u001b[1;33m(\u001b[0m\u001b[0mdpath\u001b[0m\u001b[1;33m,\u001b[0m \u001b[0mdname\u001b[0m\u001b[1;33m)\u001b[0m\u001b[1;33m)\u001b[0m\u001b[1;33m\u001b[0m\u001b[1;33m\u001b[0m\u001b[0m\n",
      "\u001b[1;31mAssertionError\u001b[0m: folder saved/logs not exists"
     ]
    }
   ],
   "source": [
    "log_dir = 'saved/logs'\n",
    "run_id = ['0730_142502', '0730_184508']\n",
    "\n",
    "plot_loss_accuracy(\n",
    "    dpath=log_dir,\n",
    "    list_dname=run_id,\n",
    "    list_metrics=['Loss', 'accuracy'],\n",
    ")"
   ]
  },
  {
   "cell_type": "code",
   "execution_count": 6,
   "metadata": {},
   "outputs": [
    {
     "output_type": "error",
     "ename": "AssertionError",
     "evalue": "folder saved/logs not exists",
     "traceback": [
      "\u001b[1;31m---------------------------------------------------------------------------\u001b[0m",
      "\u001b[1;31mAssertionError\u001b[0m                            Traceback (most recent call last)",
      "\u001b[1;32m<ipython-input-6-f5e9cad66da3>\u001b[0m in \u001b[0;36m<module>\u001b[1;34m\u001b[0m\n\u001b[0;32m      5\u001b[0m     \u001b[0mdpath\u001b[0m\u001b[1;33m=\u001b[0m\u001b[0mlog_dir\u001b[0m\u001b[1;33m,\u001b[0m\u001b[1;33m\u001b[0m\u001b[1;33m\u001b[0m\u001b[0m\n\u001b[0;32m      6\u001b[0m     \u001b[0mlist_dname\u001b[0m\u001b[1;33m=\u001b[0m\u001b[0mrun_id\u001b[0m\u001b[1;33m,\u001b[0m\u001b[1;33m\u001b[0m\u001b[1;33m\u001b[0m\u001b[0m\n\u001b[1;32m----> 7\u001b[1;33m     \u001b[0mlist_metrics\u001b[0m\u001b[1;33m=\u001b[0m\u001b[1;33m[\u001b[0m\u001b[1;34m'Loss'\u001b[0m\u001b[1;33m,\u001b[0m \u001b[1;34m'accuracy'\u001b[0m\u001b[1;33m]\u001b[0m\u001b[1;33m,\u001b[0m\u001b[1;33m\u001b[0m\u001b[1;33m\u001b[0m\u001b[0m\n\u001b[0m\u001b[0;32m      8\u001b[0m )\n",
      "\u001b[1;32m<ipython-input-3-202200138756>\u001b[0m in \u001b[0;36mplot_loss_accuracy\u001b[1;34m(dpath, list_dname, list_metrics, title, com)\u001b[0m\n\u001b[0;32m      9\u001b[0m     \"\"\" \n\u001b[0;32m     10\u001b[0m     \u001b[1;31m# check folder exists\u001b[0m\u001b[1;33m\u001b[0m\u001b[1;33m\u001b[0m\u001b[1;33m\u001b[0m\u001b[0m\n\u001b[1;32m---> 11\u001b[1;33m     \u001b[1;32massert\u001b[0m \u001b[0mos\u001b[0m\u001b[1;33m.\u001b[0m\u001b[0mpath\u001b[0m\u001b[1;33m.\u001b[0m\u001b[0mexists\u001b[0m\u001b[1;33m(\u001b[0m\u001b[0mdpath\u001b[0m\u001b[1;33m)\u001b[0m\u001b[1;33m,\u001b[0m \u001b[1;34m\"folder %s not exists\"\u001b[0m \u001b[1;33m%\u001b[0m \u001b[0mdpath\u001b[0m\u001b[1;33m\u001b[0m\u001b[1;33m\u001b[0m\u001b[0m\n\u001b[0m\u001b[0;32m     12\u001b[0m     \u001b[1;32mfor\u001b[0m \u001b[0mdname\u001b[0m \u001b[1;32min\u001b[0m \u001b[0mlist_dname\u001b[0m\u001b[1;33m:\u001b[0m\u001b[1;33m\u001b[0m\u001b[1;33m\u001b[0m\u001b[0m\n\u001b[0;32m     13\u001b[0m         \u001b[1;32massert\u001b[0m \u001b[0mos\u001b[0m\u001b[1;33m.\u001b[0m\u001b[0mpath\u001b[0m\u001b[1;33m.\u001b[0m\u001b[0mexists\u001b[0m\u001b[1;33m(\u001b[0m\u001b[0mos\u001b[0m\u001b[1;33m.\u001b[0m\u001b[0mpath\u001b[0m\u001b[1;33m.\u001b[0m\u001b[0mjoin\u001b[0m\u001b[1;33m(\u001b[0m\u001b[0mdpath\u001b[0m\u001b[1;33m,\u001b[0m \u001b[0mdname\u001b[0m\u001b[1;33m)\u001b[0m\u001b[1;33m)\u001b[0m\u001b[1;33m,\u001b[0m \u001b[1;34m\"folder %s not exists\"\u001b[0m \u001b[1;33m%\u001b[0m \u001b[0mstr\u001b[0m\u001b[1;33m(\u001b[0m\u001b[0mos\u001b[0m\u001b[1;33m.\u001b[0m\u001b[0mpath\u001b[0m\u001b[1;33m.\u001b[0m\u001b[0mjoin\u001b[0m\u001b[1;33m(\u001b[0m\u001b[0mdpath\u001b[0m\u001b[1;33m,\u001b[0m \u001b[0mdname\u001b[0m\u001b[1;33m)\u001b[0m\u001b[1;33m)\u001b[0m\u001b[1;33m\u001b[0m\u001b[1;33m\u001b[0m\u001b[0m\n",
      "\u001b[1;31mAssertionError\u001b[0m: folder saved/logs not exists"
     ]
    }
   ],
   "source": [
    "log_dir = 'saved/logs'\n",
    "run_id = ['0828_014444', '0828_112607']\n",
    "\n",
    "plot_loss_accuracy(\n",
    "    dpath=log_dir,\n",
    "    list_dname=run_id,\n",
    "    list_metrics=['Loss', 'accuracy'],\n",
    ")"
   ]
  },
  {
   "cell_type": "code",
   "execution_count": null,
   "metadata": {},
   "outputs": [],
   "source": []
  }
 ]
}